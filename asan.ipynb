{
  "nbformat": 4,
  "nbformat_minor": 0,
  "metadata": {
    "colab": {
      "provenance": []
    },
    "kernelspec": {
      "name": "python3",
      "display_name": "Python 3"
    },
    "language_info": {
      "name": "python"
    }
  },
  "cells": [
    {
      "cell_type": "code",
      "execution_count": null,
      "metadata": {
        "colab": {
          "base_uri": "https://localhost:8080/"
        },
        "id": "Ivg6lSPL9V_e",
        "outputId": "7e0e6ba6-bf23-42aa-dd26-e2175570070a"
      },
      "outputs": [
        {
          "output_type": "stream",
          "name": "stdout",
          "text": [
            "Requirement already satisfied: requests in /usr/local/lib/python3.10/dist-packages (2.32.3)\n",
            "Requirement already satisfied: charset-normalizer<4,>=2 in /usr/local/lib/python3.10/dist-packages (from requests) (3.4.0)\n",
            "Requirement already satisfied: idna<4,>=2.5 in /usr/local/lib/python3.10/dist-packages (from requests) (3.10)\n",
            "Requirement already satisfied: urllib3<3,>=1.21.1 in /usr/local/lib/python3.10/dist-packages (from requests) (2.2.3)\n",
            "Requirement already satisfied: certifi>=2017.4.17 in /usr/local/lib/python3.10/dist-packages (from requests) (2024.8.30)\n"
          ]
        }
      ],
      "source": [
        "!pip install requests\n"
      ]
    },
    {
      "cell_type": "code",
      "source": [
        "# Replace with your actual API token\n",
        "API_KEY = \"2/1208858979938031/1208893143273697:f77f89bc952866c5e9257e160d37890d\"\n"
      ],
      "metadata": {
        "id": "vNa9xUNE9ujD"
      },
      "execution_count": null,
      "outputs": []
    },
    {
      "cell_type": "code",
      "source": [
        "import requests\n",
        "\n",
        "# Define headers for the API request\n",
        "headers = {\n",
        "    \"Authorization\": f\"Bearer {API_KEY}\"\n",
        "}\n",
        "\n",
        "# Fetch workspaces\n",
        "url = \"https://app.asana.com/api/1.0/workspaces\"\n",
        "response = requests.get(url, headers=headers)\n",
        "\n",
        "if response.status_code == 200:\n",
        "    workspaces = response.json()[\"data\"]\n",
        "    print(\"Workspaces available:\")\n",
        "    for workspace in workspaces:\n",
        "        print(f\"- {workspace['name']} (ID: {workspace['gid']})\")\n",
        "else:\n",
        "    print(f\"Error fetching workspaces: {response.status_code}\")\n",
        "    print(response.json())\n"
      ],
      "metadata": {
        "colab": {
          "base_uri": "https://localhost:8080/"
        },
        "id": "CUiB5oa19w8b",
        "outputId": "fe5874f3-4a69-4cfb-c79c-a6d27425500f"
      },
      "execution_count": null,
      "outputs": [
        {
          "output_type": "stream",
          "name": "stdout",
          "text": [
            "Workspaces available:\n",
            "- My workspace (ID: 1208858979938043)\n"
          ]
        }
      ]
    },
    {
      "cell_type": "code",
      "source": [
        "# Replace with your workspace ID from the previous step\n",
        "WORKSPACE_ID = \"1208858979938043\"\n",
        "\n",
        "# Fetch projects\n",
        "url = f\"https://app.asana.com/api/1.0/workspaces/{WORKSPACE_ID}/projects\"\n",
        "response = requests.get(url, headers=headers)\n",
        "\n",
        "if response.status_code == 200:\n",
        "    projects = response.json()[\"data\"]\n",
        "    print(\"Projects available:\")\n",
        "    for project in projects:\n",
        "        print(f\"- {project['name']} (ID: {project['gid']})\")\n",
        "else:\n",
        "    print(f\"Error fetching projects: {response.status_code}\")\n",
        "    print(response.json())\n"
      ],
      "metadata": {
        "colab": {
          "base_uri": "https://localhost:8080/"
        },
        "id": "wqVbHXkh-CRb",
        "outputId": "9c9d1ffc-b921-45ab-9f9a-0220ab05ebfd"
      },
      "execution_count": null,
      "outputs": [
        {
          "output_type": "stream",
          "name": "stdout",
          "text": [
            "Projects available:\n",
            "- first project (ID: 1208892017772235)\n"
          ]
        }
      ]
    },
    {
      "cell_type": "code",
      "source": [
        "# Replace with your project ID from the previous step\n",
        "PROJECT_ID = \"1208892017772235\"\n",
        "\n",
        "# Define the task details\n",
        "url = \"https://app.asana.com/api/1.0/tasks\"\n",
        "task_data = {\n",
        "    \"data\": {\n",
        "        \"name\": \"New Task\",\n",
        "        \"notes\": \"Task created from Google Colab using Asana API!\",\n",
        "        \"projects\": [PROJECT_ID],\n",
        "        \"due_on\": \"2024-12-10\"\n",
        "    }\n",
        "}\n",
        "\n",
        "# Send the POST request to create the task\n",
        "response = requests.post(url, headers=headers, json=task_data)\n",
        "\n",
        "if response.status_code == 201:\n",
        "    print(\"Task created successfully!\")\n",
        "    print(response.json())\n",
        "else:\n",
        "    print(f\"Error creating task: {response.status_code}\")\n",
        "    print(response.json())\n"
      ],
      "metadata": {
        "colab": {
          "base_uri": "https://localhost:8080/"
        },
        "id": "MHnK9pSa-cTk",
        "outputId": "43c96f3c-3e60-499b-b0e5-64d3295e32b4"
      },
      "execution_count": null,
      "outputs": [
        {
          "output_type": "stream",
          "name": "stdout",
          "text": [
            "Task created successfully!\n",
            "{'data': {'gid': '1208899820367416', 'projects': [{'gid': '1208892017772235', 'resource_type': 'project', 'name': 'first project'}], 'resource_type': 'task', 'due_on': '2024-12-10', 'num_hearts': 0, 'workspace': {'gid': '1208858979938043', 'resource_type': 'workspace', 'name': 'My workspace'}, 'start_at': None, 'start_on': None, 'resource_subtype': 'default_task', 'notes': 'Task created from Google Colab using Asana API!', 'completed_at': None, 'assignee_status': 'upcoming', 'completed': False, 'actual_time_minutes': 0, 'created_at': '2024-12-04T04:42:38.710Z', 'assignee': None, 'num_likes': 0, 'name': 'New Task', 'modified_at': '2024-12-04T04:42:39.381Z', 'due_at': None, 'tags': [], 'likes': [], 'liked': False, 'parent': None, 'hearts': [], 'hearted': False, 'memberships': [{'project': {'gid': '1208892017772235', 'resource_type': 'project', 'name': 'first project'}, 'section': {'gid': '1208892017772236', 'resource_type': 'section', 'name': 'To do'}}], 'permalink_url': 'https://app.asana.com/0/1208892017772235/1208899820367416', 'followers': [{'gid': '1208858979938031', 'resource_type': 'user', 'name': 'Sathwik'}], 'custom_fields': [{'gid': '1208892017772240', 'resource_type': 'custom_field', 'created_by': {'gid': '1208858979938031', 'resource_type': 'user', 'name': 'Sathwik'}, 'resource_subtype': 'enum', 'type': 'enum', 'name': 'Priority', 'enabled': True, 'display_value': None, 'enum_value': None, 'enum_options': [{'gid': '1208892017772241', 'resource_type': 'enum_option', 'enabled': True, 'name': 'Low', 'color': 'aqua'}, {'gid': '1208892017772242', 'resource_type': 'enum_option', 'enabled': True, 'name': 'Medium', 'color': 'yellow-orange'}, {'gid': '1208892017772243', 'resource_type': 'enum_option', 'enabled': True, 'name': 'High', 'color': 'purple'}]}, {'gid': '1208892017772245', 'resource_type': 'custom_field', 'created_by': {'gid': '1208858979938031', 'resource_type': 'user', 'name': 'Sathwik'}, 'resource_subtype': 'enum', 'type': 'enum', 'name': 'Status', 'enabled': True, 'display_value': None, 'enum_value': None, 'enum_options': [{'gid': '1208892017772246', 'resource_type': 'enum_option', 'enabled': True, 'name': 'On track', 'color': 'blue-green'}, {'gid': '1208892017772247', 'resource_type': 'enum_option', 'enabled': True, 'name': 'At risk', 'color': 'yellow'}, {'gid': '1208892017772248', 'resource_type': 'enum_option', 'enabled': True, 'name': 'Off track', 'color': 'red'}]}]}}\n"
          ]
        }
      ]
    },
    {
      "cell_type": "code",
      "source": [
        "# Replace with your task ID\n",
        "TASK_ID = \"1208899820367416\"\n",
        "\n",
        "url = f\"https://app.asana.com/api/1.0/tasks/{TASK_ID}\"\n",
        "update_data = {\n",
        "    \"data\": {\n",
        "        \"name\": \"Updated Task Name\",  # New name for the task\n",
        "        \"notes\": \"Updated notes for the task.\",\n",
        "    }\n",
        "}\n",
        "\n",
        "response = requests.put(url, headers=headers, json=update_data)\n",
        "\n",
        "if response.status_code == 200:\n",
        "    print(\"Task updated successfully!\")\n",
        "    print(response.json())\n",
        "else:\n",
        "    print(f\"Error updating task: {response.status_code}\")\n",
        "    print(response.json())\n"
      ],
      "metadata": {
        "colab": {
          "base_uri": "https://localhost:8080/"
        },
        "id": "EIOCu4ydAPxR",
        "outputId": "b0088855-aeba-4150-8d3b-d373a09f51d8"
      },
      "execution_count": null,
      "outputs": [
        {
          "output_type": "stream",
          "name": "stdout",
          "text": [
            "Task updated successfully!\n",
            "{'data': {'gid': '1208899820367416', 'projects': [{'gid': '1208892017772235', 'resource_type': 'project', 'name': 'first project'}], 'due_on': '2024-12-10', 'due_at': None, 'num_hearts': 0, 'workspace': {'gid': '1208858979938043', 'resource_type': 'workspace', 'name': 'My workspace'}, 'start_at': None, 'start_on': None, 'resource_subtype': 'default_task', 'notes': 'Updated notes for the task.', 'resource_type': 'task', 'num_likes': 0, 'assignee_status': 'upcoming', 'completed': False, 'actual_time_minutes': 0, 'created_at': '2024-12-04T04:42:38.710Z', 'assignee': None, 'name': 'Updated Task Name', 'completed_at': None, 'modified_at': '2024-12-04T04:50:07.684Z', 'tags': [], 'likes': [], 'liked': False, 'parent': None, 'hearts': [], 'hearted': False, 'permalink_url': 'https://app.asana.com/0/1208892017772235/1208899820367416', 'memberships': [{'project': {'gid': '1208892017772235', 'resource_type': 'project', 'name': 'first project'}, 'section': {'gid': '1208892017772236', 'resource_type': 'section', 'name': 'To do'}}], 'followers': [{'gid': '1208858979938031', 'resource_type': 'user', 'name': 'Sathwik'}], 'custom_fields': [{'gid': '1208892017772240', 'resource_type': 'custom_field', 'created_by': {'gid': '1208858979938031', 'resource_type': 'user', 'name': 'Sathwik'}, 'resource_subtype': 'enum', 'type': 'enum', 'name': 'Priority', 'enabled': True, 'display_value': None, 'enum_value': None, 'enum_options': [{'gid': '1208892017772241', 'resource_type': 'enum_option', 'enabled': True, 'name': 'Low', 'color': 'aqua'}, {'gid': '1208892017772242', 'resource_type': 'enum_option', 'enabled': True, 'name': 'Medium', 'color': 'yellow-orange'}, {'gid': '1208892017772243', 'resource_type': 'enum_option', 'enabled': True, 'name': 'High', 'color': 'purple'}]}, {'gid': '1208892017772245', 'resource_type': 'custom_field', 'created_by': {'gid': '1208858979938031', 'resource_type': 'user', 'name': 'Sathwik'}, 'resource_subtype': 'enum', 'type': 'enum', 'name': 'Status', 'enabled': True, 'display_value': None, 'enum_value': None, 'enum_options': [{'gid': '1208892017772246', 'resource_type': 'enum_option', 'enabled': True, 'name': 'On track', 'color': 'blue-green'}, {'gid': '1208892017772247', 'resource_type': 'enum_option', 'enabled': True, 'name': 'At risk', 'color': 'yellow'}, {'gid': '1208892017772248', 'resource_type': 'enum_option', 'enabled': True, 'name': 'Off track', 'color': 'red'}]}]}}\n"
          ]
        }
      ]
    },
    {
      "cell_type": "code",
      "source": [
        "# Replace with your task ID\n",
        "TASK_ID = \"1208899820367416\"\n",
        "\n",
        "url = f\"https://app.asana.com/api/1.0/tasks/{TASK_ID}/stories\"\n",
        "comment_data = {\n",
        "    \"data\": {\n",
        "        \"text\": \"This is a comment added via API.\"\n",
        "    }\n",
        "}\n",
        "\n",
        "response = requests.post(url, headers=headers, json=comment_data)\n",
        "\n",
        "if response.status_code == 201:\n",
        "    print(\"Comment added successfully!\")\n",
        "    print(response.json())\n",
        "else:\n",
        "    print(f\"Error adding comment: {response.status_code}\")\n",
        "    print(response.json())\n"
      ],
      "metadata": {
        "colab": {
          "base_uri": "https://localhost:8080/"
        },
        "id": "SI249F1RAcvq",
        "outputId": "f3d97d01-464b-4374-fc92-c99735326cab"
      },
      "execution_count": null,
      "outputs": [
        {
          "output_type": "stream",
          "name": "stdout",
          "text": [
            "Comment added successfully!\n",
            "{'data': {'gid': '1208899890527483', 'resource_type': 'story', 'created_at': '2024-12-04T04:51:19.312Z', 'num_likes': 0, 'num_hearts': 0, 'resource_subtype': 'comment_added', 'is_edited': False, 'text': 'This is a comment added via API.', 'type': 'comment', 'source': 'api', 'is_pinned': False, 'hearts': [], 'hearted': False, 'previews': [], 'target': {'gid': '1208899820367416', 'resource_type': 'task', 'name': 'Updated Task Name', 'resource_subtype': 'default_task'}, 'likes': [], 'liked': False, 'is_editable': True, 'created_by': {'gid': '1208858979938031', 'resource_type': 'user', 'name': 'Sathwik'}}}\n"
          ]
        }
      ]
    },
    {
      "cell_type": "code",
      "source": [
        "import requests\n",
        "from datetime import datetime, timedelta\n",
        "\n",
        "# Replace with your actual task ID and personal access token\n",
        "TASK_ID = \"1208899820367416\"  # Example task ID\n",
        "API_KEY = \"2/1208858979938031/1208893143273697:f77f89bc952866c5e9257e160d37890d\"  # Replace with your Asana personal access token\n",
        "\n",
        "# Priority-to-due-date mapping\n",
        "PRIORITY_DAYS = {\n",
        "    \"Low\": 14,\n",
        "    \"Mid\": 7,\n",
        "    \"High\": 2\n",
        "}\n",
        "\n",
        "# Header with authentication\n",
        "headers = {\n",
        "    \"Authorization\": f\"Bearer {API_KEY}\"\n",
        "}\n",
        "\n",
        "def assign_due_date_based_on_priority(task_id, priority):\n",
        "    \"\"\"Assigns a due date to a task based on its priority.\"\"\"\n",
        "    # Validate priority\n",
        "    if priority not in PRIORITY_DAYS:\n",
        "        print(f\"Invalid priority: {priority}\")\n",
        "        return\n",
        "\n",
        "    # Calculate the due date\n",
        "    days_to_add = PRIORITY_DAYS[priority]\n",
        "    due_date = (datetime.now() + timedelta(days=days_to_add)).strftime(\"%Y-%m-%d\")\n",
        "\n",
        "    # Update the task's due date via the Asana API\n",
        "    url = f\"https://app.asana.com/api/1.0/tasks/{task_id}\"\n",
        "    data = {\n",
        "        \"data\": {\n",
        "            \"due_on\": due_date\n",
        "        }\n",
        "    }\n",
        "\n",
        "    # Make the PUT request to update the task's due date\n",
        "    response = requests.put(url, headers=headers, json=data)\n",
        "\n",
        "    if response.status_code == 200:\n",
        "        print(f\"Due date for task {task_id} set to {due_date} (Priority: {priority})\")\n",
        "    else:\n",
        "        print(f\"Failed to update due date: {response.status_code}\")\n",
        "        print(response.json())\n",
        "\n",
        "# Example usage\n",
        "priority = \"High\"  # Change this to Low, Mid, or High as needed\n",
        "assign_due_date_based_on_priority(TASK_ID, priority)\n"
      ],
      "metadata": {
        "colab": {
          "base_uri": "https://localhost:8080/"
        },
        "id": "btBAk7B5FXU0",
        "outputId": "133249f2-a2d6-43cc-e2e7-be8b6b777141"
      },
      "execution_count": null,
      "outputs": [
        {
          "output_type": "stream",
          "name": "stdout",
          "text": [
            "Due date for task 1208899820367416 set to 2024-12-06 (Priority: High)\n"
          ]
        }
      ]
    },
    {
      "cell_type": "code",
      "source": [
        "import requests\n",
        "from datetime import datetime, timedelta\n",
        "\n",
        "# Replace with your actual task ID and personal access token\n",
        "API_KEY = \"2/1208858979938031/1208893143273697:f77f89bc952866c5e9257e160d37890d\"  # Replace with your Asana personal access token\n",
        "TASK_ID = \"1208899820367416\"  # Replace with your actual task ID\n",
        "\n",
        "# Priority-to-due-date mapping\n",
        "PRIORITY_DAYS = {\n",
        "    \"Low\": 14,\n",
        "    \"Mid\": 7,\n",
        "    \"High\": 2\n",
        "}\n",
        "\n",
        "# Header with authentication\n",
        "headers = {\n",
        "    \"Authorization\": f\"Bearer {API_KEY}\"\n",
        "}\n",
        "\n",
        "def assign_due_date_based_on_priority(task_id, priority):\n",
        "    \"\"\"Assigns a due date to a task based on its priority.\"\"\"\n",
        "    if priority not in PRIORITY_DAYS:\n",
        "        print(f\"Invalid priority: {priority}\")\n",
        "        return\n",
        "\n",
        "    # Calculate the due date\n",
        "    days_to_add = PRIORITY_DAYS[priority]\n",
        "    due_date = (datetime.now() + timedelta(days=days_to_add)).strftime(\"%Y-%m-%d\")\n",
        "\n",
        "    # Update the task's due date via the Asana API\n",
        "    url = f\"https://app.asana.com/api/1.0/tasks/{task_id}\"\n",
        "    data = {\n",
        "        \"data\": {\n",
        "            \"due_on\": due_date\n",
        "        }\n",
        "    }\n",
        "\n",
        "    # Make the PUT request to update the task's due date\n",
        "    response = requests.put(url, headers=headers, json=data)\n",
        "\n",
        "    if response.status_code == 200:\n",
        "        print(f\"Due date for task {task_id} set to {due_date} (Priority: {priority})\")\n",
        "    else:\n",
        "        print(f\"Failed to update due date: {response.status_code}\")\n",
        "        print(response.json())\n",
        "\n",
        "# Example usage\n",
        "priority = \"Low\"  # Change this to Low, Mid, or High as needed\n",
        "assign_due_date_based_on_priority(TASK_ID, priority)\n"
      ],
      "metadata": {
        "colab": {
          "base_uri": "https://localhost:8080/"
        },
        "id": "dmVn9xkfVp7r",
        "outputId": "5cd4de2d-8626-4f74-f074-2d0f7f8e31bb"
      },
      "execution_count": null,
      "outputs": [
        {
          "output_type": "stream",
          "name": "stdout",
          "text": [
            "Due date for task 1208899820367416 set to 2024-12-18 (Priority: Low)\n"
          ]
        }
      ]
    },
    {
      "cell_type": "code",
      "source": [
        "import requests\n",
        "\n",
        "# Replace with your Asana personal access token and project ID\n",
        "API_KEY = \"2/1208858979938031/1208893143273697:f77f89bc952866c5e9257e160d37890d\"  # Replace with your Asana personal access token\n",
        "PROJECT_ID = \"1208892017772235\"  # Replace with your Asana Project ID\n",
        "\n",
        "# Authorization headers\n",
        "headers = {\n",
        "    \"Authorization\": f\"Bearer {API_KEY}\"\n",
        "}\n",
        "\n",
        "# Make a GET request to retrieve custom fields for the given project\n",
        "url = f\"https://app.asana.com/api/1.0/projects/{PROJECT_ID}/custom_field_settings\"\n",
        "\n",
        "response = requests.get(url, headers=headers)\n",
        "\n",
        "# Check if the request was successful\n",
        "if response.status_code == 200:\n",
        "    response_data = response.json()\n",
        "    print(\"Full Response Data:\", response_data)  # Print the whole response to understand the structure\n",
        "else:\n",
        "    print(f\"Failed to fetch custom fields: {response.status_code}\")\n",
        "    print(response.json())\n"
      ],
      "metadata": {
        "colab": {
          "base_uri": "https://localhost:8080/"
        },
        "id": "KVbDgLEHbZ7h",
        "outputId": "a34192f5-438a-48f3-f484-a0acb5110aa8"
      },
      "execution_count": null,
      "outputs": [
        {
          "output_type": "stream",
          "name": "stdout",
          "text": [
            "Full Response Data: {'data': [{'gid': '1208892017772244', 'custom_field': {'gid': '1208892017772240', 'enum_options': [{'gid': '1208892017772241', 'color': 'aqua', 'enabled': True, 'name': 'Low', 'resource_type': 'enum_option'}, {'gid': '1208892017772242', 'color': 'yellow-orange', 'enabled': True, 'name': 'Medium', 'resource_type': 'enum_option'}, {'gid': '1208892017772243', 'color': 'purple', 'enabled': True, 'name': 'High', 'resource_type': 'enum_option'}], 'name': 'Priority', 'resource_subtype': 'enum', 'resource_type': 'custom_field', 'type': 'enum', 'is_formula_field': False}, 'is_important': True, 'parent': {'gid': '1208892017772235', 'name': 'first project', 'resource_type': 'project'}, 'project': {'gid': '1208892017772235', 'name': 'first project', 'resource_type': 'project'}, 'resource_type': 'custom_field_setting'}, {'gid': '1208892017772249', 'custom_field': {'gid': '1208892017772245', 'enum_options': [{'gid': '1208892017772246', 'color': 'blue-green', 'enabled': True, 'name': 'On track', 'resource_type': 'enum_option'}, {'gid': '1208892017772247', 'color': 'yellow', 'enabled': True, 'name': 'At risk', 'resource_type': 'enum_option'}, {'gid': '1208892017772248', 'color': 'red', 'enabled': True, 'name': 'Off track', 'resource_type': 'enum_option'}], 'name': 'Status', 'resource_subtype': 'enum', 'resource_type': 'custom_field', 'type': 'enum', 'is_formula_field': False}, 'is_important': True, 'parent': {'gid': '1208892017772235', 'name': 'first project', 'resource_type': 'project'}, 'project': {'gid': '1208892017772235', 'name': 'first project', 'resource_type': 'project'}, 'resource_type': 'custom_field_setting'}]}\n"
          ]
        }
      ]
    },
    {
      "cell_type": "code",
      "source": [
        "headers = {\n",
        "    \"Authorization\": f\"Bearer {API_KEY}\"\n",
        "}\n"
      ],
      "metadata": {
        "id": "C3l-R0xfcVsY"
      },
      "execution_count": null,
      "outputs": []
    },
    {
      "cell_type": "code",
      "source": [
        "import requests\n",
        "\n",
        "API_KEY = \"2/1208858979938031/1208893143273697:f77f89bc952866c5e9257e160d37890d\"  # Replace with your personal access token\n",
        "\n",
        "# Check user info\n",
        "url = \"https://app.asana.com/api/1.0/users/me\"\n",
        "headers = {\n",
        "    \"Authorization\": f\"Bearer {API_KEY}\"\n",
        "}\n",
        "response = requests.get(url, headers=headers)\n",
        "\n",
        "if response.status_code == 200:\n",
        "    print(\"Token is valid.\")\n",
        "else:\n",
        "    print(f\"Failed to authenticate: {response.status_code}\")\n",
        "    print(response.json())\n"
      ],
      "metadata": {
        "colab": {
          "base_uri": "https://localhost:8080/"
        },
        "id": "9Yn3Cx5mcaW5",
        "outputId": "9e96ebc3-4d1f-4d8b-b581-c75e4f3dc57c"
      },
      "execution_count": null,
      "outputs": [
        {
          "output_type": "stream",
          "name": "stdout",
          "text": [
            "Token is valid.\n"
          ]
        }
      ]
    },
    {
      "cell_type": "code",
      "source": [
        "import requests\n",
        "\n",
        "API_KEY = \"2/1208858979938031/1208893143273697:f77f89bc952866c5e9257e160d37890d\"  # Replace with your personal access token\n",
        "\n",
        "# Check user info\n",
        "url = \"https://app.asana.com/api/1.0/users/me\"\n",
        "headers = {\n",
        "    \"Authorization\": f\"Bearer {API_KEY}\"  # Token is valid.\n",
        "}\n",
        "response = requests.get(url, headers=headers)\n",
        "\n",
        "if response.status_code == 200:\n",
        "    print(\"Token is valid.\")\n",
        "else:\n",
        "    print(f\"Failed to authenticate: {response.status_code}\")\n",
        "    print(response.json())\n"
      ],
      "metadata": {
        "colab": {
          "base_uri": "https://localhost:8080/"
        },
        "id": "e2HcdsPvc1lz",
        "outputId": "49fda8ec-a7f4-4597-b35a-4e8673fa0c7f"
      },
      "execution_count": null,
      "outputs": [
        {
          "output_type": "stream",
          "name": "stdout",
          "text": [
            "Token is valid.\n"
          ]
        }
      ]
    },
    {
      "cell_type": "code",
      "source": [
        "headers = {\n",
        "    \"Authorization\": f\"Bearer {API_KEY}\"\n",
        "}\n"
      ],
      "metadata": {
        "id": "hrgIr9gmeT_o"
      },
      "execution_count": null,
      "outputs": []
    },
    {
      "cell_type": "code",
      "source": [
        "import requests\n",
        "from datetime import datetime, timedelta\n",
        "\n",
        "# Replace with your actual Asana API key and project/task ID\n",
        "API_KEY = \"2/1208858979938031/1208893143273697:f77f89bc952866c5e9257e160d37890d\"  # Replace with your actual API Key\n",
        "TASK_ID = \"1208899820367416\"  # Replace with the actual Task ID\n",
        "\n",
        "# Priority-to-due-date mapping\n",
        "PRIORITY_DAYS = {\n",
        "    \"Low\": 14,\n",
        "    \"Medium\": 7,\n",
        "    \"High\": 2\n",
        "}\n",
        "\n",
        "# Authorization headers\n",
        "headers = {\n",
        "    \"Authorization\": f\"Bearer {API_KEY}\"\n",
        "}\n",
        "\n",
        "# Function to automatically assign due date based on priority\n",
        "def assign_due_date_based_on_priority(task_id, priority):\n",
        "    \"\"\"Assigns a due date to a task based on its priority.\"\"\"\n",
        "    # Validate priority\n",
        "    if priority not in PRIORITY_DAYS:\n",
        "        print(f\"Invalid priority: {priority}\")\n",
        "        return\n",
        "\n",
        "    # Calculate the due date\n",
        "    days_to_add = PRIORITY_DAYS[priority]\n",
        "    due_date = (datetime.now() + timedelta(days=days_to_add)).strftime(\"%Y-%m-%d\")\n",
        "\n",
        "    # Update the task's due date via the Asana API\n",
        "    url = f\"https://app.asana.com/api/1.0/tasks/{task_id}\"\n",
        "    data = {\n",
        "        \"data\": {\n",
        "            \"due_on\": due_date\n",
        "        }\n",
        "    }\n",
        "\n",
        "    # Make the PUT request to update the task's due date\n",
        "    response = requests.put(url, headers=headers, json=data)\n",
        "\n",
        "    if response.status_code == 200:\n",
        "        print(f\"Due date for task {task_id} set to {due_date} (Priority: {priority})\")\n",
        "    else:\n",
        "        print(f\"Failed to update due date: {response.status_code}\")\n",
        "        print(response.json())\n",
        "\n",
        "# Example usage\n",
        "priority = \"High\"  # Change this to Low, Medium, or High based on your needs\n",
        "assign_due_date_based_on_priority(TASK_ID, priority)\n"
      ],
      "metadata": {
        "colab": {
          "base_uri": "https://localhost:8080/"
        },
        "id": "B8XiR2PleoeJ",
        "outputId": "dc614920-edc4-43c3-e0b6-3c155bcdd15f"
      },
      "execution_count": null,
      "outputs": [
        {
          "output_type": "stream",
          "name": "stdout",
          "text": [
            "Due date for task 1208899820367416 set to 2024-12-06 (Priority: High)\n"
          ]
        }
      ]
    },
    {
      "cell_type": "code",
      "source": [
        "import requests\n",
        "from datetime import datetime, timedelta\n",
        "\n",
        "# Replace with your actual Asana API key and project/task ID\n",
        "API_KEY = \"2/1208858979938031/1208893143273697:f77f89bc952866c5e9257e160d37890d\"  # Replace with your actual API Key\n",
        "TASK_ID = \"1208899820367416\"  # Replace with the actual Task ID\n",
        "\n",
        "# Priority-to-due-date mapping\n",
        "PRIORITY_DAYS = {\n",
        "    \"Low\": 14,\n",
        "    \"Medium\": 7,\n",
        "    \"High\": 2\n",
        "}\n",
        "\n",
        "# Authorization headers\n",
        "headers = {\n",
        "    \"Authorization\": f\"Bearer {API_KEY}\"\n",
        "}\n",
        "\n",
        "# Function to automatically assign due date based on priority\n",
        "def assign_due_date_based_on_priority(task_id, priority):\n",
        "    \"\"\"Assigns a due date to a task based on its priority.\"\"\"\n",
        "    # Validate priority\n",
        "    if priority not in PRIORITY_DAYS:\n",
        "        print(f\"Invalid priority: {priority}\")\n",
        "        return\n",
        "\n",
        "    # Calculate the due date\n",
        "    days_to_add = PRIORITY_DAYS[priority]\n",
        "    due_date = (datetime.now() + timedelta(days=days_to_add)).strftime(\"%Y-%m-%d\")\n",
        "\n",
        "    # Update the task's due date via the Asana API\n",
        "    url = f\"https://app.asana.com/api/1.0/tasks/{task_id}\"\n",
        "    data = {\n",
        "        \"data\": {\n",
        "            \"due_on\": due_date\n",
        "        }\n",
        "    }\n",
        "\n",
        "    # Make the PUT request to update the task's due date\n",
        "    response = requests.put(url, headers=headers, json=data)\n",
        "\n",
        "    if response.status_code == 200:\n",
        "        print(f\"Due date for task {task_id} set to {due_date} (Priority: {priority})\")\n",
        "    else:\n",
        "        print(f\"Failed to update due date: {response.status_code}\")\n",
        "        print(response.json())\n",
        "\n",
        "# Get user input for priority\n",
        "user_priority = input(\"Enter the task priority (Low, Medium, High): \").strip()\n",
        "\n",
        "# Call the function with user input\n",
        "assign_due_date_based_on_priority(TASK_ID, user_priority)\n"
      ],
      "metadata": {
        "colab": {
          "base_uri": "https://localhost:8080/"
        },
        "id": "QEupaPpkMyDP",
        "outputId": "b43bc0ca-0879-4b77-acea-182124744e27"
      },
      "execution_count": null,
      "outputs": [
        {
          "output_type": "stream",
          "name": "stdout",
          "text": [
            "Enter the task priority (Low, Medium, High): Low\n",
            "Due date for task 1208899820367416 set to 2024-12-18 (Priority: Low)\n"
          ]
        }
      ]
    },
    {
      "cell_type": "code",
      "source": [
        "import requests\n",
        "from datetime import datetime, timedelta\n",
        "\n",
        "# Replace with your actual Asana API key and project/task ID\n",
        "API_KEY = \"2/1208858979938031/1208893143273697:f77f89bc952866c5e9257e160d37890d\"  # Replace with your actual API Key\n",
        "TASK_ID = \"1208899820367416\"  # Replace with the actual Task ID\n",
        "\n",
        "# Custom Field GID for Priority (replace this with the actual GID of the priority custom field)\n",
        "PRIORITY_CUSTOM_FIELD_GID = \"1208892017772240\"\n",
        "\n",
        "# Enum option GIDs for priority levels (replace with actual GIDs retrieved from Asana)\n",
        "PRIORITY_ENUM_OPTIONS = {\n",
        "    \"Low\": \"1208892017772241\",\n",
        "    \"Medium\": \"1208892017772242\",\n",
        "    \"High\": \"1208892017772243\"\n",
        "}\n",
        "\n",
        "# Priority-to-due-date mapping\n",
        "PRIORITY_DAYS = {\n",
        "    \"Low\": 14,\n",
        "    \"Medium\": 7,\n",
        "    \"High\": 2\n",
        "}\n",
        "\n",
        "# Authorization headers\n",
        "headers = {\n",
        "    \"Authorization\": f\"Bearer {API_KEY}\"\n",
        "}\n",
        "\n",
        "# Function to automatically assign due date based on priority\n",
        "def assign_due_date_and_priority(task_id, priority):\n",
        "    \"\"\"Assigns a due date and updates the priority custom field for a task.\"\"\"\n",
        "    # Validate priority\n",
        "    if priority not in PRIORITY_DAYS:\n",
        "        print(f\"Invalid priority: {priority}\")\n",
        "        return\n",
        "\n",
        "    # Calculate the due date\n",
        "    days_to_add = PRIORITY_DAYS[priority]\n",
        "    due_date = (datetime.now() + timedelta(days=days_to_add)).strftime(\"%Y-%m-%d\")\n",
        "\n",
        "    # Update the task's due date\n",
        "    url = f\"https://app.asana.com/api/1.0/tasks/{task_id}\"\n",
        "    data = {\n",
        "        \"data\": {\n",
        "            \"due_on\": due_date\n",
        "        }\n",
        "    }\n",
        "    response = requests.put(url, headers=headers, json=data)\n",
        "\n",
        "    if response.status_code == 200:\n",
        "        print(f\"Due date for task {task_id} set to {due_date} (Priority: {priority})\")\n",
        "    else:\n",
        "        print(f\"Failed to update due date: {response.status_code}\")\n",
        "        print(response.json())\n",
        "        return\n",
        "\n",
        "    # Update the custom field for priority\n",
        "    custom_field_data = {\n",
        "        \"data\": {\n",
        "            \"custom_fields\": {\n",
        "                PRIORITY_CUSTOM_FIELD_GID: PRIORITY_ENUM_OPTIONS[priority]\n",
        "            }\n",
        "        }\n",
        "    }\n",
        "    response = requests.put(url, headers=headers, json=custom_field_data)\n",
        "\n",
        "    if response.status_code == 200:\n",
        "        print(f\"Priority for task {task_id} set to {priority}\")\n",
        "    else:\n",
        "        print(f\"Failed to update priority: {response.status_code}\")\n",
        "        print(response.json())\n",
        "\n",
        "# Get user input for priority\n",
        "user_priority = input(\"Enter the task priority (Low, Medium, High): \").strip()\n",
        "\n",
        "# Call the function with user input\n",
        "assign_due_date_and_priority(TASK_ID, user_priority)\n"
      ],
      "metadata": {
        "colab": {
          "base_uri": "https://localhost:8080/"
        },
        "id": "Xb4P5w6UOwHc",
        "outputId": "93659503-fa4c-4ec8-bbc6-50db3304a242"
      },
      "execution_count": null,
      "outputs": [
        {
          "output_type": "stream",
          "name": "stdout",
          "text": [
            "Enter the task priority (Low, Medium, High): High\n",
            "Due date for task 1208899820367416 set to 2024-12-06 (Priority: High)\n",
            "Priority for task 1208899820367416 set to High\n"
          ]
        }
      ]
    },
    {
      "cell_type": "code",
      "source": [
        "def fetch_task_details(task_id):\n",
        "    url = f\"https://app.asana.com/api/1.0/tasks/{task_id}\"\n",
        "    response = requests.get(url, headers=headers)\n",
        "    if response.status_code == 200:\n",
        "        print(response.json())\n",
        "    else:\n",
        "        print(f\"Error: {response.status_code}\")\n",
        "        print(response.json())\n",
        "\n",
        "fetch_task_details(TASK_ID)\n"
      ],
      "metadata": {
        "colab": {
          "base_uri": "https://localhost:8080/"
        },
        "id": "jVjxfD6OThpq",
        "outputId": "a75afe49-397d-408f-db80-7fb6a56b71e6"
      },
      "execution_count": null,
      "outputs": [
        {
          "output_type": "stream",
          "name": "stdout",
          "text": [
            "{'data': {'gid': '1208899820367416', 'actual_time_minutes': None, 'assignee': {'gid': '1208858979938031', 'name': 'Sathwik', 'resource_type': 'user'}, 'assignee_status': 'inbox', 'assignee_section': {'gid': '1208858980045844', 'name': 'Recently assigned', 'resource_type': 'section'}, 'completed': False, 'completed_at': None, 'created_at': '2024-12-04T04:42:38.710Z', 'custom_fields': [{'gid': '1208892017772240', 'enabled': True, 'enum_options': [{'gid': '1208892017772241', 'color': 'aqua', 'enabled': True, 'name': 'Low', 'resource_type': 'enum_option'}, {'gid': '1208892017772242', 'color': 'yellow-orange', 'enabled': True, 'name': 'Medium', 'resource_type': 'enum_option'}, {'gid': '1208892017772243', 'color': 'purple', 'enabled': True, 'name': 'High', 'resource_type': 'enum_option'}], 'enum_value': {'gid': '1208892017772243', 'color': 'purple', 'enabled': True, 'name': 'High', 'resource_type': 'enum_option'}, 'name': 'Priority', 'description': 'Track the priority of each task.', 'created_by': {'gid': '1208858979938031', 'name': 'Sathwik', 'resource_type': 'user'}, 'display_value': 'High', 'resource_subtype': 'enum', 'resource_type': 'custom_field', 'is_formula_field': False, 'is_value_read_only': False, 'type': 'enum'}, {'gid': '1208892017772245', 'enabled': True, 'enum_options': [{'gid': '1208892017772246', 'color': 'blue-green', 'enabled': True, 'name': 'On track', 'resource_type': 'enum_option'}, {'gid': '1208892017772247', 'color': 'yellow', 'enabled': True, 'name': 'At risk', 'resource_type': 'enum_option'}, {'gid': '1208892017772248', 'color': 'red', 'enabled': True, 'name': 'Off track', 'resource_type': 'enum_option'}], 'enum_value': {'gid': '1208892017772246', 'color': 'blue-green', 'enabled': True, 'name': 'On track', 'resource_type': 'enum_option'}, 'name': 'Status', 'description': 'Track the status of each task.', 'created_by': {'gid': '1208858979938031', 'name': 'Sathwik', 'resource_type': 'user'}, 'display_value': 'On track', 'resource_subtype': 'enum', 'resource_type': 'custom_field', 'is_formula_field': False, 'is_value_read_only': False, 'type': 'enum'}], 'due_at': None, 'due_on': '2024-12-06', 'followers': [{'gid': '1208858979938031', 'name': 'Sathwik', 'resource_type': 'user'}], 'hearted': False, 'hearts': [], 'liked': False, 'likes': [], 'memberships': [{'project': {'gid': '1208892017772235', 'name': 'first project', 'resource_type': 'project'}, 'section': {'gid': '1208892017772236', 'name': 'To do', 'resource_type': 'section'}}], 'modified_at': '2024-12-04T15:13:19.635Z', 'name': 'updated_task', 'notes': 'Updated notes for the task.', 'num_hearts': 0, 'num_likes': 0, 'parent': None, 'permalink_url': 'https://app.asana.com/0/1208892017772235/1208899820367416', 'projects': [{'gid': '1208892017772235', 'name': 'first project', 'resource_type': 'project'}], 'resource_type': 'task', 'start_at': None, 'start_on': None, 'tags': [], 'resource_subtype': 'default_task', 'workspace': {'gid': '1208858979938043', 'name': 'My workspace', 'resource_type': 'workspace'}}}\n"
          ]
        }
      ]
    },
    {
      "cell_type": "code",
      "source": [
        "import requests\n",
        "from datetime import datetime, timedelta\n",
        "\n",
        "# Replace with your Asana API key and task ID\n",
        "API_KEY = \"2/1208858979938031/1208893143273697:f77f89bc952866c5e9257e160d37890d\"  # Replace with your actual API key\n",
        "TASK_ID = \"1208899820367416\"  # Replace with your actual task ID\n",
        "STATUS_FIELD_ID = \"1208892017772245\"  # GID of the Status custom field\n",
        "\n",
        "# Authorization headers\n",
        "headers = {\n",
        "    \"Authorization\": f\"Bearer {API_KEY}\"\n",
        "}\n",
        "\n",
        "# Function to extend the due date for specific statuses\n",
        "def extend_due_date_for_status(task_id, status_to_extend, extra_days):\n",
        "    \"\"\"Extends the due date for a task if it matches the given status.\"\"\"\n",
        "    # Fetch task details\n",
        "    url = f\"https://app.asana.com/api/1.0/tasks/{task_id}\"\n",
        "    response = requests.get(url, headers=headers)\n",
        "\n",
        "    if response.status_code != 200:\n",
        "        print(f\"Failed to fetch task details: {response.status_code}\")\n",
        "        print(response.json())\n",
        "        return\n",
        "\n",
        "    task_data = response.json()[\"data\"]\n",
        "\n",
        "    # Check the current status\n",
        "    custom_fields = task_data.get(\"custom_fields\", [])\n",
        "    current_status = None\n",
        "    for field in custom_fields:\n",
        "        if field[\"gid\"] == STATUS_FIELD_ID:\n",
        "            current_status = field.get(\"display_value\")  # Current status text\n",
        "            break\n",
        "\n",
        "    if not current_status:\n",
        "        print(\"Task status is not recognized. Current status: None\")\n",
        "        return\n",
        "\n",
        "    print(f\"Current task status: {current_status}\")\n",
        "\n",
        "    # Extend due date if the status matches\n",
        "    if current_status == status_to_extend:\n",
        "        current_due_date = task_data.get(\"due_on\")\n",
        "        if not current_due_date:\n",
        "            print(\"Task does not have a due date set.\")\n",
        "            return\n",
        "\n",
        "        # Calculate the new due date\n",
        "        current_due_date_obj = datetime.strptime(current_due_date, \"%Y-%m-%d\")\n",
        "        new_due_date = (current_due_date_obj + timedelta(days=extra_days)).strftime(\"%Y-%m-%d\")\n",
        "\n",
        "        # Update the task's due date\n",
        "        update_data = {\n",
        "            \"data\": {\n",
        "                \"due_on\": new_due_date\n",
        "            }\n",
        "        }\n",
        "        update_response = requests.put(url, headers=headers, json=update_data)\n",
        "\n",
        "        if update_response.status_code == 200:\n",
        "            print(f\"Due date extended to {new_due_date} for task {task_id} (Status: {status_to_extend})\")\n",
        "        else:\n",
        "            print(f\"Failed to update due date: {update_response.status_code}\")\n",
        "            print(update_response.json())\n",
        "    else:\n",
        "        print(f\"Task status does not match '{status_to_extend}'. No changes made.\")\n",
        "\n",
        "# Example usage\n",
        "status_to_extend = \"On track\"  # Specify the status to check\n",
        "extra_days = 3  # Number of days to extend\n",
        "extend_due_date_for_status(TASK_ID, status_to_extend, extra_days)\n"
      ],
      "metadata": {
        "colab": {
          "base_uri": "https://localhost:8080/"
        },
        "id": "6Yk46-N2UI1i",
        "outputId": "1592d6b0-4be9-48e3-c7d9-9b1cb9c9421c"
      },
      "execution_count": null,
      "outputs": [
        {
          "output_type": "stream",
          "name": "stdout",
          "text": [
            "Current task status: On track\n",
            "Due date extended to 2024-12-09 for task 1208899820367416 (Status: On track)\n"
          ]
        }
      ]
    },
    {
      "cell_type": "markdown",
      "source": [
        "GIT\n"
      ],
      "metadata": {
        "id": "fwNIfyfFYjuy"
      }
    },
    {
      "cell_type": "code",
      "source": [
        "!git init\n"
      ],
      "metadata": {
        "colab": {
          "base_uri": "https://localhost:8080/"
        },
        "id": "e2i-Fr1xYnF9",
        "outputId": "3582d3b3-e1c8-4594-d4cd-ccd052bd7ed4"
      },
      "execution_count": null,
      "outputs": [
        {
          "output_type": "stream",
          "name": "stdout",
          "text": [
            "\u001b[33mhint: Using 'master' as the name for the initial branch. This default branch name\u001b[m\n",
            "\u001b[33mhint: is subject to change. To configure the initial branch name to use in all\u001b[m\n",
            "\u001b[33mhint: of your new repositories, which will suppress this warning, call:\u001b[m\n",
            "\u001b[33mhint: \u001b[m\n",
            "\u001b[33mhint: \tgit config --global init.defaultBranch <name>\u001b[m\n",
            "\u001b[33mhint: \u001b[m\n",
            "\u001b[33mhint: Names commonly chosen instead of 'master' are 'main', 'trunk' and\u001b[m\n",
            "\u001b[33mhint: 'development'. The just-created branch can be renamed via this command:\u001b[m\n",
            "\u001b[33mhint: \u001b[m\n",
            "\u001b[33mhint: \tgit branch -m <name>\u001b[m\n",
            "Initialized empty Git repository in /content/.git/\n"
          ]
        }
      ]
    }
  ]
}